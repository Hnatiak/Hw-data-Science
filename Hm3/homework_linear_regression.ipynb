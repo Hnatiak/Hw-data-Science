{
 "cells": [
  {
   "cell_type": "code",
   "execution_count": 5,
   "id": "6294900f-c961-4f92-9b2e-82295b8efa74",
   "metadata": {},
   "outputs": [
    {
     "name": "stdout",
     "output_type": "stream",
     "text": [
      "Iteration 0: Cost 12379166654624.395\n",
      "Iteration 100: Cost 2321154738873.716\n",
      "Iteration 200: Cost 990694110149.273\n",
      "Iteration 300: Cost 810246111103.337\n",
      "Iteration 400: Cost 784937999790.8076\n",
      "Iteration 500: Cost 781161352088.9807\n",
      "Iteration 600: Cost 780531519185.5842\n",
      "Iteration 700: Cost 780407936749.1641\n",
      "Iteration 800: Cost 780379021698.3749\n",
      "Iteration 900: Cost 780371256936.3574\n",
      "Parameters from Gradient Descent (Scaled): [4735984.71577788  749235.16862595  266720.60655308  712571.98860448]\n",
      "Parameters from Normal Equation (Scaled): [4736303.16152965  749023.05142651  265604.85843734  714016.44847748]\n"
     ]
    }
   ],
   "source": [
    "import pandas as pd\n",
    "import numpy as np\n",
    "from sklearn.preprocessing import StandardScaler\n",
    "from sklearn.model_selection import train_test_split\n",
    "\n",
    "# Завантаження даних\n",
    "file_path = 'Housing.csv'\n",
    "data = pd.read_csv(file_path)\n",
    "\n",
    "# Вибір необхідних колонок\n",
    "X = data[['area', 'bedrooms', 'bathrooms']].values\n",
    "y = data['price'].values\n",
    "\n",
    "# Нормалізація даних\n",
    "scaler = StandardScaler()\n",
    "X_scaled = scaler.fit_transform(X)\n",
    "X_b_scaled = np.c_[np.ones((X_scaled.shape[0], 1)), X_scaled]\n",
    "\n",
    "# Функція гіпотези лінійної регресії\n",
    "def hypothesis(X, w):\n",
    "    return np.dot(X, w)\n",
    "\n",
    "# Функція обчислення функції втрат\n",
    "def compute_cost(X, y, w):\n",
    "    m = len(y)\n",
    "    h = hypothesis(X, w)\n",
    "    return (1/(2*m)) * np.dot((h - y).T, (h - y))\n",
    "\n",
    "# Один крок градієнтного спуску\n",
    "def gradient_descent_step(X, y, w, learning_rate):\n",
    "    m = len(y)\n",
    "    h = hypothesis(X, w)\n",
    "    gradient = (1/m) * np.dot(X.T, (h - y))\n",
    "    w = w - learning_rate * gradient\n",
    "    return w\n",
    "\n",
    "# Знайдення параметрів за допомогою градієнтного спуску\n",
    "def train_linear_regression(X, y, learning_rate=0.01, num_iterations=1000):\n",
    "    m, n = X.shape\n",
    "    w = np.zeros(n)\n",
    "    for i in range(num_iterations):\n",
    "        w = gradient_descent_step(X, y, w, learning_rate)\n",
    "        if i % 100 == 0:\n",
    "            cost = compute_cost(X, y, w)\n",
    "            print(f\"Iteration {i}: Cost {cost}\")\n",
    "    return w\n",
    "\n",
    "# Знайдення параметрів за допомогою аналітичного рішення\n",
    "def normal_equation(X, y):\n",
    "    return np.linalg.inv(X.T @ X) @ X.T @ y\n",
    "\n",
    "# Розділення даних на тренувальні та тестові набори\n",
    "X_train_scaled, X_test_scaled, y_train, y_test = train_test_split(X_b_scaled, y, test_size=0.2, random_state=42)\n",
    "\n",
    "# Навчання за допомогою градієнтного спуску\n",
    "w_gd_scaled = train_linear_regression(X_train_scaled, y_train, learning_rate=0.01)\n",
    "\n",
    "# Навчання за допомогою аналітичного рішення\n",
    "w_ne_scaled = normal_equation(X_train_scaled, y_train)\n",
    "\n",
    "print(\"Parameters from Gradient Descent (Scaled):\", w_gd_scaled)\n",
    "print(\"Parameters from Normal Equation (Scaled):\", w_ne_scaled)"
   ]
  },
  {
   "cell_type": "code",
   "execution_count": null,
   "id": "4acb7b01-c71d-480b-8a8b-453fbb521c18",
   "metadata": {},
   "outputs": [],
   "source": []
  }
 ],
 "metadata": {
  "kernelspec": {
   "display_name": "Python 3 (ipykernel)",
   "language": "python",
   "name": "python3"
  },
  "language_info": {
   "codemirror_mode": {
    "name": "ipython",
    "version": 3
   },
   "file_extension": ".py",
   "mimetype": "text/x-python",
   "name": "python",
   "nbconvert_exporter": "python",
   "pygments_lexer": "ipython3",
   "version": "3.11.3"
  }
 },
 "nbformat": 4,
 "nbformat_minor": 5
}
