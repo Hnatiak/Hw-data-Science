{
 "cells": [
  {
   "cell_type": "markdown",
   "id": "02846368-ae99-43c7-a4f8-a51ca55f77fd",
   "metadata": {},
   "source": [
    "Перед початком давайте скорпіюємо наш весь текст, і вставимо його сюди:"
   ]
  },
  {
   "cell_type": "code",
   "execution_count": 1,
   "id": "0d32f63f-8a65-4958-a21f-b526df662006",
   "metadata": {},
   "outputs": [],
   "source": [
    "text = \"The Orbiter Discovery, OV-103, is considered eligible for listing in the National Register of Historic Places (NRHP) in the context of the U.S. Space Shuttle Program (1969-2011) under Criterion A in the areas of Space Exploration and Transportation and under Criterion C in the area of Engineering. Because it has achieved significance within the past fifty years, Criteria Consideration G applies. Under Criterion A, Discovery is significant as the oldest of the three extant orbiter vehicles constructed for the Space Shuttle Program (SSP), the longest running American space program to date; she was the third of five orbiters built by NASA. Unlike the Mercury, Gemini, and Apollo programs, the SSP’s emphasis was on cost effectiveness and reusability, and eventually the construction of a space station. Including her maiden voyage (launched August 30, 1984), Discovery flew to space thirty-nine times, more than any of the other four orbiters; she was also the first orbiter to fly twenty missions. She had the honor of being chosen as the Return to Flight vehicle after both the Challenger and Columbia accidents. Discovery was the first shuttle to fly with the redesigned SRBs, a result of the Challenger accident, and the first shuttle to fly with the Phase II and Block I SSME. Discovery also carried the Hubble Space Telescope to orbit and performed two of the five servicing missions to the observatory. She flew the first and last dedicated Department of Defense (DoD) missions, as well as the first unclassified defense-related mission. In addition, Discovery was vital to the construction of the International Space Station (ISS); she flew thirteen of the thirty-seven total missions flown to the station by a U.S. Space Shuttle. She was the first orbiter to dock to the ISS, and the first to perform an exchange of a resident crew. Under Criterion C, Discovery is significant as a feat of engineering. According to Wayne Hale, a flight director from Johnson Space Center, the Space Shuttle orbiter represents a “huge technological leap from expendable rockets and capsules to a reusable, winged, hypersonic, cargo-carrying spacecraft.” Although her base structure followed a conventional aircraft design, she used advanced materials that both minimized her weight for cargo-carrying purposes and featured low thermal expansion ratios, which provided a stable base for her Thermal Protection System (TPS) materials. The Space Shuttle orbiter also featured the first reusable TPS; all previous spaceflight vehicles had a single-use, ablative heat shield. Other notable engineering achievements of the orbiter included the first reusable orbital propulsion system, and the first two-fault-tolerant Integrated Avionics System. As Hale stated, the Space Shuttle remains “the largest, fastest, winged hypersonic aircraft in history,” having regularly flown at twenty-five times the speed of sound.\""
   ]
  },
  {
   "cell_type": "markdown",
   "id": "d84622d6-a387-482a-8819-1577e4e37c99",
   "metadata": {},
   "source": [
    "Знову імпортуємо потрібні нам бібіліотеки (Давайте зробимо цей код трошки гострішим і для цього ми заімпортуємо бібліотеку spacy)"
   ]
  },
  {
   "cell_type": "code",
   "execution_count": 5,
   "id": "8f64544d-92bc-4fcb-9ce5-181adef671ec",
   "metadata": {},
   "outputs": [],
   "source": [
    "import spacy\n",
    "import nltk\n",
    "from nltk.corpus import stopwords\n",
    "from nltk.tokenize import word_tokenize, sent_tokenize"
   ]
  },
  {
   "cell_type": "markdown",
   "id": "2a952adf-e52b-4bbf-8783-8192049c0c69",
   "metadata": {},
   "source": [
    "Тут нам потрібно прописати ще додатково команду, щоб встановити модель:\n",
    "\n",
    "для встановлення пропиши (якщо раптом виникне помилка і запусти код ще раз):\n",
    "\n",
    "!python -m spacy download en_core_web_sm"
   ]
  },
  {
   "cell_type": "code",
   "execution_count": 8,
   "id": "51c5dcfb-9fa9-4e34-ac43-0cbb9f4b2ace",
   "metadata": {},
   "outputs": [
    {
     "name": "stderr",
     "output_type": "stream",
     "text": [
      "[nltk_data] Downloading package punkt to\n",
      "[nltk_data]     C:\\Users\\User\\AppData\\Roaming\\nltk_data...\n",
      "[nltk_data]   Unzipping tokenizers\\punkt.zip.\n",
      "[nltk_data] Downloading package stopwords to\n",
      "[nltk_data]     C:\\Users\\User\\AppData\\Roaming\\nltk_data...\n",
      "[nltk_data]   Unzipping corpora\\stopwords.zip.\n"
     ]
    },
    {
     "data": {
      "text/plain": [
       "True"
      ]
     },
     "execution_count": 8,
     "metadata": {},
     "output_type": "execute_result"
    }
   ],
   "source": [
    "nlp = spacy.load('en_core_web_sm')\n",
    "nltk.download('punkt')\n",
    "nltk.download('stopwords')"
   ]
  },
  {
   "cell_type": "markdown",
   "id": "6e448306-ecd9-46ac-86cb-a12ea6705de2",
   "metadata": {},
   "source": [
    "Виконуємо токенізацію (Чомусь досі боюся цього слова, хоча в ньому нічого страшного немає):"
   ]
  },
  {
   "cell_type": "code",
   "execution_count": 9,
   "id": "9d563536-82ff-4eba-b22c-7f6935af2b1b",
   "metadata": {},
   "outputs": [
    {
     "name": "stdout",
     "output_type": "stream",
     "text": [
      "['The', 'Orbiter', 'Discovery', ',', 'OV-103', ',', 'is', 'considered', 'eligible', 'for', 'listing', 'in', 'the', 'National', 'Register', 'of', 'Historic', 'Places', '(', 'NRHP', ')', 'in', 'the', 'context', 'of', 'the', 'U.S.', 'Space', 'Shuttle', 'Program', '(', '1969', '-', '2011', ')', 'under', 'Criterion', 'A', 'in', 'the', 'areas', 'of', 'Space', 'Exploration', 'and', 'Transportation', 'and', 'under', 'Criterion', 'C', 'in', 'the', 'area', 'of', 'Engineering', '.', 'Because', 'it', 'has', 'achieved', 'significance', 'within', 'the', 'past', 'fifty', 'years', ',', 'Criteria', 'Consideration', 'G', 'applies', '.', 'Under', 'Criterion', 'A', ',', 'Discovery', 'is', 'significant', 'as', 'the', 'oldest', 'of', 'the', 'three', 'extant', 'orbiter', 'vehicles', 'constructed', 'for', 'the', 'Space', 'Shuttle', 'Program', '(', 'SSP', ')', ',', 'the', 'longest', 'running', 'American', 'space', 'program', 'to', 'date', ';', 'she', 'was', 'the', 'third', 'of', 'five', 'orbiters', 'built', 'by', 'NASA', '.', 'Unlike', 'the', 'Mercury', ',', 'Gemini', ',', 'and', 'Apollo', 'programs', ',', 'the', 'SSP', '’s', 'emphasis', 'was', 'on', 'cost', 'effectiveness', 'and', 'reusability', ',', 'and', 'eventually', 'the', 'construction', 'of', 'a', 'space', 'station', '.', 'Including', 'her', 'maiden', 'voyage', '(', 'launched', 'August', '30', ',', '1984', ')', ',', 'Discovery', 'flew', 'to', 'space', 'thirty', '-', 'nine', 'times', ',', 'more', 'than', 'any', 'of', 'the', 'other', 'four', 'orbiters', ';', 'she', 'was', 'also', 'the', 'first', 'orbiter', 'to', 'fly', 'twenty', 'missions', '.', 'She', 'had', 'the', 'honor', 'of', 'being', 'chosen', 'as', 'the', 'Return', 'to', 'Flight', 'vehicle', 'after', 'both', 'the', 'Challenger', 'and', 'Columbia', 'accidents', '.', 'Discovery', 'was', 'the', 'first', 'shuttle', 'to', 'fly', 'with', 'the', 'redesigned', 'SRBs', ',', 'a', 'result', 'of', 'the', 'Challenger', 'accident', ',', 'and', 'the', 'first', 'shuttle', 'to', 'fly', 'with', 'the', 'Phase', 'II', 'and', 'Block', 'I', 'SSME', '.', 'Discovery', 'also', 'carried', 'the', 'Hubble', 'Space', 'Telescope', 'to', 'orbit', 'and', 'performed', 'two', 'of', 'the', 'five', 'servicing', 'missions', 'to', 'the', 'observatory', '.', 'She', 'flew', 'the', 'first', 'and', 'last', 'dedicated', 'Department', 'of', 'Defense', '(', 'DoD', ')', 'missions', ',', 'as', 'well', 'as', 'the', 'first', 'unclassified', 'defense', '-', 'related', 'mission', '.', 'In', 'addition', ',', 'Discovery', 'was', 'vital', 'to', 'the', 'construction', 'of', 'the', 'International', 'Space', 'Station', '(', 'ISS', ')', ';', 'she', 'flew', 'thirteen', 'of', 'the', 'thirty', '-', 'seven', 'total', 'missions', 'flown', 'to', 'the', 'station', 'by', 'a', 'U.S.', 'Space', 'Shuttle', '.', 'She', 'was', 'the', 'first', 'orbiter', 'to', 'dock', 'to', 'the', 'ISS', ',', 'and', 'the', 'first', 'to', 'perform', 'an', 'exchange', 'of', 'a', 'resident', 'crew', '.', 'Under', 'Criterion', 'C', ',', 'Discovery', 'is', 'significant', 'as', 'a', 'feat', 'of', 'engineering', '.', 'According', 'to', 'Wayne', 'Hale', ',', 'a', 'flight', 'director', 'from', 'Johnson', 'Space', 'Center', ',', 'the', 'Space', 'Shuttle', 'orbiter', 'represents', 'a', '“', 'huge', 'technological', 'leap', 'from', 'expendable', 'rockets', 'and', 'capsules', 'to', 'a', 'reusable', ',', 'winged', ',', 'hypersonic', ',', 'cargo', '-', 'carrying', 'spacecraft', '.', '”', 'Although', 'her', 'base', 'structure', 'followed', 'a', 'conventional', 'aircraft', 'design', ',', 'she', 'used', 'advanced', 'materials', 'that', 'both', 'minimized', 'her', 'weight', 'for', 'cargo', '-', 'carrying', 'purposes', 'and', 'featured', 'low', 'thermal', 'expansion', 'ratios', ',', 'which', 'provided', 'a', 'stable', 'base', 'for', 'her', 'Thermal', 'Protection', 'System', '(', 'TPS', ')', 'materials', '.', 'The', 'Space', 'Shuttle', 'orbiter', 'also', 'featured', 'the', 'first', 'reusable', 'TPS', ';', 'all', 'previous', 'spaceflight', 'vehicles', 'had', 'a', 'single', '-', 'use', ',', 'ablative', 'heat', 'shield', '.', 'Other', 'notable', 'engineering', 'achievements', 'of', 'the', 'orbiter', 'included', 'the', 'first', 'reusable', 'orbital', 'propulsion', 'system', ',', 'and', 'the', 'first', 'two', '-', 'fault', '-', 'tolerant', 'Integrated', 'Avionics', 'System', '.', 'As', 'Hale', 'stated', ',', 'the', 'Space', 'Shuttle', 'remains', '“', 'the', 'largest', ',', 'fastest', ',', 'winged', 'hypersonic', 'aircraft', 'in', 'history', ',', '”', 'having', 'regularly', 'flown', 'at', 'twenty', '-', 'five', 'times', 'the', 'speed', 'of', 'sound', '.']\n"
     ]
    }
   ],
   "source": [
    "doc = nlp(text)\n",
    "tokens_nltk = [token.text for token in doc]\n",
    "print(tokens_nltk)"
   ]
  },
  {
   "cell_type": "code",
   "execution_count": 10,
   "id": "4d8d3bf1-1346-473c-ac0c-dd9b11980835",
   "metadata": {},
   "outputs": [],
   "source": [
    "tokens = word_tokenize(text)\n",
    "sentences = sent_tokenize(text)\n",
    "stop_words = set(stopwords.words('english'))"
   ]
  },
  {
   "cell_type": "markdown",
   "id": "a67c84b7-b519-43e8-a41c-dfb46d3708f6",
   "metadata": {},
   "source": [
    "Імпортуємо пунктуацію, тому для цього нам потрібно додатково заімпортувати бібліотеки:"
   ]
  },
  {
   "cell_type": "code",
   "execution_count": 11,
   "id": "f397ada2-5325-49f7-be53-eb2142984e6d",
   "metadata": {},
   "outputs": [],
   "source": [
    "from string import punctuation"
   ]
  },
  {
   "cell_type": "code",
   "execution_count": 12,
   "id": "8ed6c1c0-b127-4ce6-a72a-d1138f0f4da6",
   "metadata": {},
   "outputs": [],
   "source": [
    "punpunctuation = punctuation + '\\n'"
   ]
  },
  {
   "cell_type": "markdown",
   "id": "b4e081a3-d6a0-412c-b590-de83966b299a",
   "metadata": {},
   "source": [
    "За допомогою моделі Spacy обчислимо частоту кожного слова"
   ]
  },
  {
   "cell_type": "code",
   "execution_count": 13,
   "id": "1bd7bdfd-06cb-47e1-89df-cbb9bd28713d",
   "metadata": {},
   "outputs": [],
   "source": [
    "word_frequencies = {}\n",
    "for word in doc:\n",
    "    if word.text.lower() not in stop_words and word.text.lower() not in punctuation:\n",
    "        if word.text not in word_frequencies:\n",
    "            word_frequencies[word.text] = 1\n",
    "        else:\n",
    "            word_frequencies[word.text] += 1"
   ]
  },
  {
   "cell_type": "markdown",
   "id": "b544f972-b044-44fd-bc4e-06d7ad6ac960",
   "metadata": {},
   "source": [
    "Обчислимо частоту кожного слова за допомогою NLTK"
   ]
  },
  {
   "cell_type": "code",
   "execution_count": 15,
   "id": "122a7bb2-cdaf-453d-88f7-533ec2ddda8f",
   "metadata": {},
   "outputs": [],
   "source": [
    "word_frequencies_nltk = {}\n",
    "for word in tokens_nltk:\n",
    "    if word.lower() not in stop_words and word.lower() not in punctuation:\n",
    "        if word not in word_frequencies_nltk:\n",
    "            word_frequencies_nltk[word] = 1\n",
    "        else:\n",
    "            word_frequencies_nltk[word] += 1"
   ]
  },
  {
   "cell_type": "markdown",
   "id": "8699f38b-2bc5-42c0-8b9a-0a0c416492c9",
   "metadata": {},
   "source": [
    "За допомогою NLTK розрахуємо ваги кожного речення на основі слів в ньому"
   ]
  },
  {
   "cell_type": "code",
   "execution_count": 16,
   "id": "b71ee22d-8e9e-4cfa-b497-5cf3a998fe89",
   "metadata": {},
   "outputs": [],
   "source": [
    "sentence_scores_nltk = {}\n",
    "for sentence in sentences:\n",
    "    for word in word_tokenize(sentence):\n",
    "        if word.lower() in word_frequencies_nltk:\n",
    "            if sentence not in sentence_scores_nltk:\n",
    "                sentence_scores_nltk[sentence] = word_frequencies_nltk[word.lower()]\n",
    "            else:\n",
    "                sentence_scores_nltk[sentence] += word_frequencies_nltk[word.lower()]"
   ]
  },
  {
   "cell_type": "markdown",
   "id": "b9645fbb-50b2-4fb7-9a72-e13942cc0406",
   "metadata": {},
   "source": [
    "Вибираємо 30% топ найбільш значущих речень для формування висновку, тому для цього імпортуємо ще одну бібліотеку яка нам доопможе у цьому:"
   ]
  },
  {
   "cell_type": "code",
   "execution_count": 17,
   "id": "5154da01-a090-45b1-b89d-af497b7fe82c",
   "metadata": {},
   "outputs": [],
   "source": [
    "from heapq import nlargest"
   ]
  },
  {
   "cell_type": "code",
   "execution_count": 18,
   "id": "cc2460a5-0c2a-442c-9cf7-eb14fb339bde",
   "metadata": {},
   "outputs": [
    {
     "name": "stdout",
     "output_type": "stream",
     "text": [
      "According to Wayne Hale, a flight director from Johnson Space Center, the Space Shuttle orbiter represents a “huge technological leap from expendable rockets and capsules to a reusable, winged, hypersonic, cargo-carrying spacecraft.” Although her base structure followed a conventional aircraft design, she used advanced materials that both minimized her weight for cargo-carrying purposes and featured low thermal expansion ratios, which provided a stable base for her Thermal Protection System (TPS) materials.\n",
      "Including her maiden voyage (launched August 30, 1984), Discovery flew to space thirty-nine times, more than any of the other four orbiters; she was also the first orbiter to fly twenty missions.\n",
      "Other notable engineering achievements of the orbiter included the first reusable orbital propulsion system, and the first two-fault-tolerant Integrated Avionics System.\n",
      "The Space Shuttle orbiter also featured the first reusable TPS; all previous spaceflight vehicles had a single-use, ablative heat shield.\n"
     ]
    }
   ],
   "source": [
    "select_length = int(len(sentences) * 0.3)\n",
    "summary_nltk = nlargest(select_length, sentence_scores_nltk, key=sentence_scores_nltk.get)\n",
    "for sentence in summary_nltk:\n",
    "    print(sentence)"
   ]
  },
  {
   "cell_type": "markdown",
   "id": "f38157d3-7d26-43eb-9c35-2ea633136ab8",
   "metadata": {},
   "source": [
    "Робимо висновок:\n",
    "\n",
    "<h1><b>ВИСНОВОК</b></h1>\n",
    "\n",
    "Даний код аналізує текстовий опис космічного корабля <b>'Orbiter Discovery',</b> використовуючи бібліотеку Spacy та NLTK для токенізації та обчислення частоти слів та речень. Після чого він вибирає топ-30% найбільш важливих речень і враховує їхню значущість на основі кількості входжень ключових слів. Отриманий висновок надає інформацію про історію, технологічні досягнення, участь в місіях та вплив космічного корабля <b>'Orbiter Discovery'</b> на будівництво Міжнародної Космічної Станції."
   ]
  }
 ],
 "metadata": {
  "kernelspec": {
   "display_name": "Python 3 (ipykernel)",
   "language": "python",
   "name": "python3"
  },
  "language_info": {
   "codemirror_mode": {
    "name": "ipython",
    "version": 3
   },
   "file_extension": ".py",
   "mimetype": "text/x-python",
   "name": "python",
   "nbconvert_exporter": "python",
   "pygments_lexer": "ipython3",
   "version": "3.11.3"
  }
 },
 "nbformat": 4,
 "nbformat_minor": 5
}
