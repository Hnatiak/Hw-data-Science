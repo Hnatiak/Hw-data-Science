{
 "cells": [
  {
   "cell_type": "markdown",
   "id": "3a1664d0-8626-47a3-9676-a9bf7aefc28a",
   "metadata": {},
   "source": [
    "Імпортуємо потрібні нам бібліотеки"
   ]
  },
  {
   "cell_type": "code",
   "execution_count": 7,
   "id": "d95cdd8a-6085-48b9-9ed3-b20e1c6bd926",
   "metadata": {},
   "outputs": [],
   "source": [
    "from surprise import Dataset\n",
    "from surprise.model_selection import train_test_split, cross_validate\n",
    "from surprise.prediction_algorithms import BaselineOnly, SVD, SVDpp, NMF"
   ]
  },
  {
   "cell_type": "markdown",
   "id": "0fd0ae55-7780-467b-b10b-a0001539a3c1",
   "metadata": {},
   "source": [
    "Завантажуємо датасет з movielens-100k"
   ]
  },
  {
   "cell_type": "code",
   "execution_count": 2,
   "id": "0fe9d7ec-4623-462d-a805-505944fe6821",
   "metadata": {},
   "outputs": [],
   "source": [
    "data = Dataset.load_builtin('ml-100k')\n",
    "\n",
    "trainset, testset = train_test_split(data, test_size=0.2)"
   ]
  },
  {
   "cell_type": "markdown",
   "id": "f1e99811-4d24-4513-9cc2-2f32c4b7381c",
   "metadata": {},
   "source": [
    "Давайте проведемо порівняння алгоритмів і розяснемо кожен з них:\n",
    "\n",
    "<ul>\n",
    "    <li>SVD</li>\n",
    "    <li>SVD++</li>\n",
    "    <li>NMF</li>\n",
    "    <h3>Пояснення:</h3>\n",
    "    <ol>\n",
    "        <li><b>SVD (Singular Value Decomposition):</b> Один з класичних методів розкладу матриці з дійсними або комплексними числами. Є узагальненням власного розкладу матриці невід'ємно визначеної нормальної матриці (наприклад, симетричної матриці з додатними власними значеннями) на матрицю розміру m x n як узагальнення полярного розкладу.</li>\n",
    "        <li><b>SVD++:</b> Цей алгоритм включає в себе додаткові функції, такі як здатність рекомендувати нові або менше оцінені елементи, що може покращити точність прогнозування.</li>\n",
    "        <li><b>NMF (Non-Negative Matrix Factorization):</b> Цей алгоритм використовує не негативну матричну факторизацію, яка може бути корисною, коли рейтинги є не від'ємними числами.</li>\n",
    "    </ol>\n",
    "</ul>"
   ]
  },
  {
   "cell_type": "code",
   "execution_count": 3,
   "id": "0b82b165-71a3-444d-bb48-de84b150f235",
   "metadata": {},
   "outputs": [
    {
     "name": "stdout",
     "output_type": "stream",
     "text": [
      "Evaluating RMSE, MAE of algorithm SVD on 5 split(s).\n",
      "\n",
      "                  Fold 1  Fold 2  Fold 3  Fold 4  Fold 5  Mean    Std     \n",
      "RMSE (testset)    0.9355  0.9397  0.9365  0.9317  0.9365  0.9360  0.0026  \n",
      "MAE (testset)     0.7381  0.7410  0.7377  0.7350  0.7365  0.7377  0.0020  \n",
      "Fit time          0.70    0.75    0.74    0.71    0.70    0.72    0.02    \n",
      "Test time         0.11    0.08    0.11    0.11    0.11    0.10    0.01    \n",
      "SVD:\n",
      "  RMSE: 0.9359841319366351\n",
      "  MAE: 0.7376593360435575\n",
      "Evaluating RMSE, MAE of algorithm SVDpp on 5 split(s).\n",
      "\n",
      "                  Fold 1  Fold 2  Fold 3  Fold 4  Fold 5  Mean    Std     \n",
      "RMSE (testset)    0.9214  0.9202  0.9201  0.9144  0.9264  0.9205  0.0038  \n",
      "MAE (testset)     0.7226  0.7204  0.7211  0.7165  0.7245  0.7210  0.0027  \n",
      "Fit time          13.61   13.64   13.59   13.69   13.57   13.62   0.04    \n",
      "Test time         2.43    2.38    2.47    2.40    2.30    2.40    0.06    \n",
      "SVDpp:\n",
      "  RMSE: 0.9204937298097231\n",
      "  MAE: 0.7210316817369506\n",
      "Evaluating RMSE, MAE of algorithm NMF on 5 split(s).\n",
      "\n",
      "                  Fold 1  Fold 2  Fold 3  Fold 4  Fold 5  Mean    Std     \n",
      "RMSE (testset)    0.9571  0.9616  0.9694  0.9611  0.9586  0.9616  0.0042  \n",
      "MAE (testset)     0.7534  0.7563  0.7637  0.7556  0.7523  0.7563  0.0040  \n",
      "Fit time          1.07    1.08    1.10    1.12    1.12    1.10    0.02    \n",
      "Test time         0.11    0.11    0.06    0.06    0.11    0.09    0.02    \n",
      "NMF:\n",
      "  RMSE: 0.9615773281770531\n",
      "  MAE: 0.756252313078358\n"
     ]
    }
   ],
   "source": [
    "svd = SVD()\n",
    "svdpp = SVDpp()\n",
    "nmf = NMF()\n",
    "\n",
    "\n",
    "models = [svd, svdpp, nmf]\n",
    "for model in models:\n",
    "    results = cross_validate(model, data, measures=['RMSE', 'MAE'], cv=5, verbose=True)\n",
    "    print(f\"{type(model).__name__}:\")\n",
    "    print(\"  RMSE:\", results['test_rmse'].mean())\n",
    "    print(\"  MAE:\", results['test_mae'].mean())"
   ]
  },
  {
   "cell_type": "markdown",
   "id": "351cf431-556e-47f9-9df1-8ac28743fdde",
   "metadata": {},
   "source": [
    "<h3>Розберемо метрики, які ми можемо спостерігати в результаті виконання коду:</h3>\n",
    "\n",
    "<ol>\n",
    "    <li><b>RMSE Root Mean Squared Error (testset):</b> Середньоквадратична помилка між реальними та передбаченими рейтингами на тестовому наборі даних. Чим менше значення, тим краще.</li>\n",
    "     <li><b>MAE Mean Absolute Error (testset):</b> Середня абсолютна помилка між реальними та передбаченими рейтингами на тестовому наборі даних. Чим менше значення, тим краще.</li>\n",
    "     <li><b>Fit time:</b> Час, необхідний для навчання моделі на кожному розділі даних. Зазвичай це вимірюється в секундах.</li>\n",
    "     <li><b>Test time:</b> Час, необхідний для прогнозування рейтингів для тестового набору даних. Зазвичай це також вимірюється в секундах.</li>\n",
    "\n",
    "</ol>\n",
    "Потім ознайомлюємося з усередненими значеннями RMSE та MAE зібраними на п'яти різних розділах даних для кожного із дослуджуваних методів.\n",
    "\n",
    "Додамо також для порівняння Baseline модель. Це є простим методом прогнозування рейтингів, що базується на середній оцінці кожного користувача та середній оцінці для кожного предмета (фільму)."
   ]
  },
  {
   "cell_type": "code",
   "execution_count": 4,
   "id": "af124de3-61e5-470c-9994-19e468f0f0be",
   "metadata": {},
   "outputs": [
    {
     "name": "stdout",
     "output_type": "stream",
     "text": [
      "Estimating biases using als...\n",
      "Estimating biases using als...\n",
      "Estimating biases using als...\n",
      "Estimating biases using als...\n",
      "Estimating biases using als...\n",
      "Evaluating RMSE, MAE of algorithm BaselineOnly on 5 split(s).\n",
      "\n",
      "                  Fold 1  Fold 2  Fold 3  Fold 4  Fold 5  Mean    Std     \n",
      "RMSE (testset)    0.9447  0.9431  0.9482  0.9361  0.9459  0.9436  0.0041  \n",
      "MAE (testset)     0.7481  0.7485  0.7512  0.7424  0.7497  0.7480  0.0030  \n",
      "Fit time          0.12    0.16    0.13    0.16    0.17    0.15    0.02    \n",
      "Test time         0.09    0.09    0.04    0.09    0.09    0.08    0.02    \n",
      "NMF:\n",
      "  RMSE: 0.9436250025842075\n",
      "  MAE: 0.7479878514001823\n"
     ]
    }
   ],
   "source": [
    "baseline = BaselineOnly()\n",
    "\n",
    "results = cross_validate(baseline, data, measures=['RMSE', 'MAE'], cv=5, verbose=True)\n",
    "print(f\"{type(model).__name__}:\")\n",
    "print(\"  RMSE:\", results['test_rmse'].mean())\n",
    "print(\"  MAE:\", results['test_mae'].mean())"
   ]
  },
  {
   "cell_type": "markdown",
   "id": "8a93db60-2791-4d71-b5b8-86c0d0e2ebc2",
   "metadata": {},
   "source": [
    "<h3>Висновок:</h3>\n",
    "\n",
    "<p>Ознайомившись з результатами можемо спостерігати, що методи SVD та SVD++ показали кращі результати від звичайного методу рогнозування за середніми числами Baseline.\n",
    "\n",
    "SVD++ показав найкращий результат, тим не менш - він потребує більшого часу для навчання моделі і прогнозування рейтингів.</p>"
   ]
  },
  {
   "cell_type": "markdown",
   "id": "189caf80-1945-4f01-856a-176d3ba8e0ed",
   "metadata": {},
   "source": [
    "<h1>ЗАВДАННЯ ІЗ ЗІРОЧКОЮ</h1>\n",
    "\n",
    "Імпортуємо потрібні нам бібліотеки"
   ]
  },
  {
   "cell_type": "code",
   "execution_count": 8,
   "id": "a6102da4-ef93-4474-944a-f5ca39e28965",
   "metadata": {},
   "outputs": [],
   "source": [
    "import numpy as np\n",
    "from scipy.io import loadmat\n",
    "from scipy.optimize import minimize"
   ]
  },
  {
   "cell_type": "markdown",
   "id": "6dde30be-984f-4534-a213-6219b784247d",
   "metadata": {},
   "source": [
    "1. Завантажимо дані з файлу .mat та імена фільмів з файлу .txt:"
   ]
  },
  {
   "cell_type": "code",
   "execution_count": 9,
   "id": "37d9d404-9467-4656-862a-d3f9da0f4ff5",
   "metadata": {},
   "outputs": [],
   "source": [
    "data = loadmat('movies.mat')\n",
    "Y = data['Y']\n",
    "R = data['R']\n",
    "\n",
    "def load_movie_list():\n",
    "    movie_names = []\n",
    "    with open('movie_ids.txt', encoding='ISO-8859-1') as f:\n",
    "        for line in f:\n",
    "            parts = line.split(' ')\n",
    "            movie_names.append(' '.join(parts[1:]).strip())\n",
    "    return movie_names\n",
    "\n",
    "movie_list = load_movie_list()"
   ]
  },
  {
   "cell_type": "markdown",
   "id": "9ccb26e7-f88f-4c45-b58f-64bb229af599",
   "metadata": {},
   "source": [
    "2. Реалізація матричної факторизації (Ініціалізація матриць факторів)"
   ]
  },
  {
   "cell_type": "code",
   "execution_count": 11,
   "id": "5bb5a6d8-38aa-4c30-9818-69e3d6703407",
   "metadata": {},
   "outputs": [],
   "source": [
    "num_movies, num_users = Y.shape\n",
    "num_features = 10\n",
    "\n",
    "X = np.random.normal(scale=1./num_features, size=(num_movies, num_features))\n",
    "Theta = np.random.normal(scale=1./num_features, size=(num_users, num_features))"
   ]
  },
  {
   "cell_type": "markdown",
   "id": "dd2316f3-1f77-4034-8a13-967e78de5982",
   "metadata": {},
   "source": [
    "4. Функція втрат"
   ]
  },
  {
   "cell_type": "code",
   "execution_count": 12,
   "id": "bcc0f669-1a16-492d-b5c1-a02891216f67",
   "metadata": {},
   "outputs": [],
   "source": [
    "def cost(params, Y, R, num_users, num_movies, num_features, reg_param):\n",
    "    X = params[:num_movies * num_features].reshape(num_movies, num_features)\n",
    "    Theta = params[num_movies * num_features:].reshape(num_users, num_features)\n",
    "    prediction = X.dot(Theta.T)\n",
    "    error = (prediction - Y) * R\n",
    "    cost = 0.5 * np.sum(error**2)\n",
    "    cost += (reg_param / 2.) * (np.sum(Theta**2) + np.sum(X**2))\n",
    "    return cost"
   ]
  },
  {
   "cell_type": "markdown",
   "id": "85c61979-93d1-4db1-a1a2-46e541af7c57",
   "metadata": {},
   "source": [
    "5. Розрахунок градієнтів"
   ]
  },
  {
   "cell_type": "code",
   "execution_count": 14,
   "id": "00ca8668-e655-4e51-9a70-a8f6ebd86961",
   "metadata": {},
   "outputs": [],
   "source": [
    "def gradient(params, Y, R, num_users, num_movies, num_features, reg_param):\n",
    "    X = params[:num_movies * num_features].reshape(num_movies, num_features)\n",
    "    Theta = params[num_movies * num_features:].reshape(num_users, num_features)\n",
    "    prediction = X.dot(Theta.T)\n",
    "    error = (prediction - Y) * R\n",
    "    X_grad = error.dot(Theta) + reg_param * X\n",
    "    Theta_grad = error.T.dot(X) + reg_param * Theta\n",
    "    grad = np.concatenate([X_grad.ravel(), Theta_grad.ravel()])\n",
    "    return grad"
   ]
  },
  {
   "cell_type": "markdown",
   "id": "0426fef6-d876-428e-8f77-739ffb50b9a6",
   "metadata": {},
   "source": [
    "6. Оптимізація"
   ]
  },
  {
   "cell_type": "code",
   "execution_count": 15,
   "id": "3c41edb3-e150-4c87-a4a8-d745bd394f9d",
   "metadata": {},
   "outputs": [],
   "source": [
    "reg_param = 0.1\n",
    "initial_params = np.concatenate([X.ravel(), Theta.ravel()])\n",
    "result = minimize(fun=cost, x0=initial_params, args=(Y, R, num_users, num_movies, num_features, reg_param), method='CG', jac=gradient, options={'maxiter': 100})"
   ]
  },
  {
   "cell_type": "markdown",
   "id": "b0a1f27e-daf3-4951-a84b-cc94a754fbd3",
   "metadata": {},
   "source": [
    "7. Отримання остаточних факторів матриць"
   ]
  },
  {
   "cell_type": "code",
   "execution_count": 16,
   "id": "16f67613-c248-4106-a1d0-ac31e70f6cf2",
   "metadata": {},
   "outputs": [],
   "source": [
    "X = result.x[:num_movies * num_features].reshape(num_movies, num_features)\n",
    "Theta = result.x[num_movies * num_features:].reshape(num_users, num_features)\n",
    "\n",
    "predictions = X.dot(Theta.T)"
   ]
  },
  {
   "cell_type": "markdown",
   "id": "8cf6310f-c480-4d81-a71d-9db82aa8cead",
   "metadata": {},
   "source": [
    "8. Розрахунок середньої абсолютної похибки (MAE)"
   ]
  },
  {
   "cell_type": "code",
   "execution_count": 17,
   "id": "6c8ae478-ef74-44e0-8f76-79a830905e89",
   "metadata": {},
   "outputs": [
    {
     "name": "stdout",
     "output_type": "stream",
     "text": [
      "Mean Absolute Error (MAE): 0.5479727571491062\n"
     ]
    }
   ],
   "source": [
    "def mae(predictions, true_ratings, R):\n",
    "    error = np.abs(predictions - true_ratings)\n",
    "    mae_value = np.sum(error * R) / np.sum(R)\n",
    "    return mae_value\n",
    "\n",
    "mae_value = mae(predictions, Y, R)\n",
    "print(f\"Mean Absolute Error (MAE): {mae_value}\")"
   ]
  },
  {
   "cell_type": "markdown",
   "id": "80475e4f-6a3c-4cad-9eba-f71b59936fab",
   "metadata": {},
   "source": [
    "9. Розрахунок середньоквадратичної похибки (RMSE)"
   ]
  },
  {
   "cell_type": "code",
   "execution_count": 18,
   "id": "fbadf5b9-a317-4b3e-b56f-c20b2d4b94ef",
   "metadata": {},
   "outputs": [
    {
     "name": "stdout",
     "output_type": "stream",
     "text": [
      "Root Mean Squared Error (RMSE): 0.7027852585807797\n"
     ]
    }
   ],
   "source": [
    "def rmse(predictions, true_ratings, R):\n",
    "    error = (predictions - true_ratings) ** 2\n",
    "    rmse_value = np.sqrt(np.sum(error * R) / np.sum(R))\n",
    "    return rmse_value\n",
    "\n",
    "rmse_value = rmse(predictions, Y, R)\n",
    "print(f\"Root Mean Squared Error (RMSE): {rmse_value}\")"
   ]
  }
 ],
 "metadata": {
  "kernelspec": {
   "display_name": "Python 3 (ipykernel)",
   "language": "python",
   "name": "python3"
  },
  "language_info": {
   "codemirror_mode": {
    "name": "ipython",
    "version": 3
   },
   "file_extension": ".py",
   "mimetype": "text/x-python",
   "name": "python",
   "nbconvert_exporter": "python",
   "pygments_lexer": "ipython3",
   "version": "3.11.3"
  }
 },
 "nbformat": 4,
 "nbformat_minor": 5
}
